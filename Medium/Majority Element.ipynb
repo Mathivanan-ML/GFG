{
 "cells": [
  {
   "cell_type": "markdown",
   "id": "350d0b9a-6887-4861-bd7f-2e14c032c83a",
   "metadata": {},
   "source": [
    "Given an array arr. Find the majority element in the array. If no majority exists, return -1.\n",
    "\n",
    "A majority element in an array of size n is an element that appears strictly more than n/2 times in the array.\n",
    "\n",
    "Examples:\n",
    "\n",
    "Input: arr[] = [3, 1, 3, 3, 2]\n",
    "Output: 3\n",
    "Explanation: Since, 3 is present more than n/2 times, so it is the majority element"
   ]
  },
  {
   "cell_type": "code",
   "execution_count": null,
   "id": "13b8a817-09d9-4d96-bd31-d1f12d5a26a9",
   "metadata": {},
   "outputs": [],
   "source": [
    "#User function template for Python 3\n",
    "\n",
    "class Solution:\n",
    "    def majorityElement(self, A, n):\n",
    "        #Your code here\n",
    "        d = {-1:-1}\n",
    "        for i in A:\n",
    "            if d.get(i)==None:\n",
    "                d[i] = 1\n",
    "            else:\n",
    "                d[i] += 1\n",
    "        m = 0\n",
    "        mk = -1\n",
    "        for k,v in d.items():\n",
    "            m = max(v,m)\n",
    "            if m==v:\n",
    "                mk = k \n",
    "        \n",
    "        if m>(n//2):\n",
    "            return mk\n",
    "        return -1"
   ]
  },
  {
   "cell_type": "code",
   "execution_count": null,
   "id": "4ce402a9-ea09-4ce4-ac43-2c0628343300",
   "metadata": {},
   "outputs": [],
   "source": [
    "class Solution:\n",
    "    def majorityElement(self, A, n):\n",
    "        #Your code here\n",
    "        if n==1:\n",
    "            return A[0]\n",
    "        cnt = 0\n",
    "        el = 0\n",
    "        flag=False\n",
    "        for i in A:\n",
    "            if cnt==0:\n",
    "                el = i\n",
    "            if el==i:\n",
    "                cnt += 1\n",
    "                \n",
    "                if cnt>1 :\n",
    "                    flag=True\n",
    "                # if cnt>(n//2):\n",
    "                #     return el\n",
    "            else:\n",
    "                cnt -= 1\n",
    "        return el if A.cnt(el)>(n//2) else -1"
   ]
  }
 ],
 "metadata": {
  "kernelspec": {
   "display_name": "Python 3 (ipykernel)",
   "language": "python",
   "name": "python3"
  },
  "language_info": {
   "codemirror_mode": {
    "name": "ipython",
    "version": 3
   },
   "file_extension": ".py",
   "mimetype": "text/x-python",
   "name": "python",
   "nbconvert_exporter": "python",
   "pygments_lexer": "ipython3",
   "version": "3.12.5"
  }
 },
 "nbformat": 4,
 "nbformat_minor": 5
}
