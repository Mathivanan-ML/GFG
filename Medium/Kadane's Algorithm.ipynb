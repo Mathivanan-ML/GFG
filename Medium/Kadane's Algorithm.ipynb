{
 "cells": [
  {
   "cell_type": "markdown",
   "id": "901af75c-390c-4739-b0f5-cf87fd12d3e1",
   "metadata": {},
   "source": [
    "Given an integer array arr[]. Find the contiguous sub-array(containing at least one number) that has the maximum sum and return its sum.\n",
    "\n",
    "Examples:\n",
    "\n",
    "Input: arr[] = [1, 2, 3, -2, 5]\n",
    "Output: 9\n",
    "Explanation: Max subarray sum is 9 of elements (1, 2, 3, -2, 5) which is a contiguous subarray."
   ]
  },
  {
   "cell_type": "code",
   "execution_count": null,
   "id": "051bea02-6ac7-4d89-87fb-799925a9d01b",
   "metadata": {},
   "outputs": [],
   "source": [
    "class Solution:\n",
    "    ##Complete this function\n",
    "    #Function to find the sum of contiguous subarray with maximum sum.\n",
    "    def maxSubArraySum(self,arr):\n",
    "        ##Your code here\n",
    "        max_s = arr[0]\n",
    "        cur_s = 0\n",
    "        for i in arr:\n",
    "            if cur_s<0:\n",
    "                cur_s = 0 \n",
    "            cur_s += i\n",
    "            max_s = max(max_s,cur_s)\n",
    "        return max_s"
   ]
  }
 ],
 "metadata": {
  "kernelspec": {
   "display_name": "Python 3 (ipykernel)",
   "language": "python",
   "name": "python3"
  },
  "language_info": {
   "codemirror_mode": {
    "name": "ipython",
    "version": 3
   },
   "file_extension": ".py",
   "mimetype": "text/x-python",
   "name": "python",
   "nbconvert_exporter": "python",
   "pygments_lexer": "ipython3",
   "version": "3.12.5"
  }
 },
 "nbformat": 4,
 "nbformat_minor": 5
}
