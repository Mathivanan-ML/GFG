{
 "cells": [
  {
   "cell_type": "markdown",
   "id": "6b6daea0-4d77-4d76-8e51-5e55421e8dee",
   "metadata": {},
   "source": [
    "Given an unsorted array arr of size n that contains only non negative integers, find a sub-array (continuous elements) that has sum equal to s. You mainly need to return the left and right indexes(1-based indexing) of that subarray.\n",
    "\n",
    "In case of multiple subarrays, return the subarray indexes which come first on moving from left to right. If no such subarray exists return an array consisting of element -1.\n",
    "\n",
    "Examples:\n",
    "\n",
    "Input: arr[] = [1,2,3,7,5], n = 5, s = 12\n",
    "Output: 2 4\n",
    "Explanation: The sum of elements from 2nd to 4th position is 12."
   ]
  },
  {
   "cell_type": "code",
   "execution_count": 1,
   "id": "92a0ca92-e332-4734-90a6-012946278153",
   "metadata": {},
   "outputs": [],
   "source": [
    "class Solution:\n",
    "    def subArraySum(self,a, n, s): \n",
    "       \n",
    "        i = 0\n",
    "        st = 0\n",
    "        en = 0\n",
    "        tar = s\n",
    "        s = 0\n",
    "        while(i<len(a)):\n",
    "            \n",
    "                \n",
    "            s += a[i]\n",
    "            \n",
    "            en = i\n",
    "            \n",
    "            while tar<s and st<en:\n",
    "                s -= a[st]\n",
    "                st += 1\n",
    "            if tar==s:\n",
    "                return [st+1,i+1]   \n",
    "            i += 1 \n",
    "        \n",
    "        return [-1]"
   ]
  }
 ],
 "metadata": {
  "kernelspec": {
   "display_name": "Python 3 (ipykernel)",
   "language": "python",
   "name": "python3"
  },
  "language_info": {
   "codemirror_mode": {
    "name": "ipython",
    "version": 3
   },
   "file_extension": ".py",
   "mimetype": "text/x-python",
   "name": "python",
   "nbconvert_exporter": "python",
   "pygments_lexer": "ipython3",
   "version": "3.12.5"
  }
 },
 "nbformat": 4,
 "nbformat_minor": 5
}
