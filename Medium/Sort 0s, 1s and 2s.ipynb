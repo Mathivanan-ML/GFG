{
 "cells": [
  {
   "cell_type": "markdown",
   "id": "b36b07a0-4af4-4ec9-9432-4f94b0287221",
   "metadata": {},
   "source": [
    "Given an array of size n containing only 0s, 1s, and 2s; sort the array in ascending order.\n",
    "\n",
    "\n",
    "Examples:\n",
    "\n",
    "Input: n = 5, arr[]= [0 2 1 2 0]\n",
    "Output: 0 0 1 2 2\n",
    "Explanation: 0s 1s and 2s are segregated \n",
    "into ascending order."
   ]
  },
  {
   "cell_type": "code",
   "execution_count": null,
   "id": "d9ea5c31-b6d0-49f9-9089-735d325109b1",
   "metadata": {},
   "outputs": [],
   "source": [
    "#User function Template for python3\n",
    "\n",
    "class Solution:\n",
    "    def sort012(self,arr,n):\n",
    "        # code here\n",
    "        cnt0=cnt1=cnt2=0\n",
    "        for i in arr:\n",
    "            if i==0:\n",
    "                cnt0+=1\n",
    "            elif i==1:\n",
    "                cnt1+=1\n",
    "            else:\n",
    "                cnt2==1\n",
    "       \n",
    "        for i in range(0,n):\n",
    "            if i<cnt0:\n",
    "                arr[i] = 0\n",
    "            elif i>=cnt0 and i<cnt0+cnt1:\n",
    "                arr[i] = 1\n",
    "            else:\n",
    "                arr[i] = 2\n",
    "        \n"
   ]
  },
  {
   "cell_type": "code",
   "execution_count": 2,
   "id": "de7ff637-7374-48a9-8917-b0288eda20a7",
   "metadata": {},
   "outputs": [
    {
     "name": "stdout",
     "output_type": "stream",
     "text": [
      "[0, 0, 1, 1, 1, 2, 2]\n"
     ]
    }
   ],
   "source": [
    "def sort012(ar):\n",
    "    low=0\n",
    "    mid = 0\n",
    "    high = len(ar)-1\n",
    "    while(mid<high):\n",
    "        if (ar[mid]==0):\n",
    "            ar[low],ar[mid] = ar[mid],ar[low]\n",
    "            low += 1\n",
    "            mid += 1\n",
    "        elif ar[mid]==1:\n",
    "            mid += 1\n",
    "        else:\n",
    "            ar[high],ar[mid] = ar[mid],ar[high]\n",
    "            high -= 1\n",
    "l = [0,1,2,1,1,0,2]\n",
    "sort012(l)\n",
    "print(l)"
   ]
  }
 ],
 "metadata": {
  "kernelspec": {
   "display_name": "Python 3 (ipykernel)",
   "language": "python",
   "name": "python3"
  },
  "language_info": {
   "codemirror_mode": {
    "name": "ipython",
    "version": 3
   },
   "file_extension": ".py",
   "mimetype": "text/x-python",
   "name": "python",
   "nbconvert_exporter": "python",
   "pygments_lexer": "ipython3",
   "version": "3.12.5"
  }
 },
 "nbformat": 4,
 "nbformat_minor": 5
}
