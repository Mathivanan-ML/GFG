{
 "cells": [
  {
   "cell_type": "markdown",
   "id": "1c452d94-53e3-4cc9-b173-b0b6a4810290",
   "metadata": {},
   "source": [
    "Given an unsorted array arr of size n of positive integers. One number 'A' from set {1, 2,....,N} is missing and one number 'B' occurs twice in array. Find these two numbers.\n",
    "Your task is to complete the function findTwoElement() which takes the array of integers arr and n as parameters and returns an array of integers of size 2 denoting the answer (The first index contains B and second index contains A)\n",
    "\n",
    "Examples\n",
    "\n",
    "Input: n = 2 arr[] = {2, 2}\n",
    "Output: 2 1\n",
    "Explanation: Repeating number is 2 and smallest positive missing number is 1."
   ]
  },
  {
   "cell_type": "code",
   "execution_count": null,
   "id": "316aac73-1889-4525-97e8-f5c447a0fff3",
   "metadata": {},
   "outputs": [],
   "source": [
    "#User function Template for python3\n",
    "\n",
    "class Solution:\n",
    "    def findTwoElement( self,arr, n): \n",
    "        # code here\n",
    "        no_dup = {}\n",
    "        tot = n*(n+1)/2\n",
    "        sum  = 0 \n",
    "        dup = 0\n",
    "        for i in arr:\n",
    "            if no_dup.get(i)!=None:\n",
    "                dup = i\n",
    "                sum -= i\n",
    "            else:\n",
    "                no_dup[i] = 1\n",
    "            sum += i\n",
    "        return [dup,int(tot-sum)]\n",
    "        \n"
   ]
  }
 ],
 "metadata": {
  "kernelspec": {
   "display_name": "Python 3 (ipykernel)",
   "language": "python",
   "name": "python3"
  },
  "language_info": {
   "codemirror_mode": {
    "name": "ipython",
    "version": 3
   },
   "file_extension": ".py",
   "mimetype": "text/x-python",
   "name": "python",
   "nbconvert_exporter": "python",
   "pygments_lexer": "ipython3",
   "version": "3.12.5"
  }
 },
 "nbformat": 4,
 "nbformat_minor": 5
}
