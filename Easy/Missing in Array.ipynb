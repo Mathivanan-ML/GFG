{
 "cells": [
  {
   "cell_type": "markdown",
   "id": "4070a2b1-6d4f-4866-92e5-3ac284b48346",
   "metadata": {},
   "source": [
    "Given an array arr of size n−1 that contains distinct integers in the range of 1 to n (inclusive), find the missing element. The array is a permutation of size n with one element missing. Return the missing element.\n",
    "\n",
    " \n",
    "\n",
    "Examples:\n",
    "\n",
    "Input: n = 5, arr[] = [1,2,3,5]\n",
    "Output: 4\n",
    "Explanation : All the numbers from 1 to 5 are present except 4."
   ]
  },
  {
   "cell_type": "code",
   "execution_count": null,
   "id": "e818348d-8ec3-4e4b-a62a-4110771b083e",
   "metadata": {},
   "outputs": [],
   "source": [
    "#User function Template for python3\n",
    "class Solution:\n",
    "    \n",
    "    # Note that the size of the array is n-1\n",
    "    def missingNumber(self, n, arr):\n",
    "        \n",
    "        s = n*(n+1)/2\n",
    "        return int(s-sum(arr))\n"
   ]
  }
 ],
 "metadata": {
  "kernelspec": {
   "display_name": "Python 3 (ipykernel)",
   "language": "python",
   "name": "python3"
  },
  "language_info": {
   "codemirror_mode": {
    "name": "ipython",
    "version": 3
   },
   "file_extension": ".py",
   "mimetype": "text/x-python",
   "name": "python",
   "nbconvert_exporter": "python",
   "pygments_lexer": "ipython3",
   "version": "3.12.5"
  }
 },
 "nbformat": 4,
 "nbformat_minor": 5
}
